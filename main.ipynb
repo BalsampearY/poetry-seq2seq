{
 "nbformat": 4,
 "nbformat_minor": 2,
 "metadata": {
  "language_info": {
   "name": "python",
   "codemirror_mode": {
    "name": "ipython",
    "version": 3
   },
   "version": "3.7.0-final"
  },
  "orig_nbformat": 2,
  "file_extension": ".py",
  "mimetype": "text/x-python",
  "name": "python",
  "npconvert_exporter": "python",
  "pygments_lexer": "ipython3",
  "version": 3,
  "kernelspec": {
   "name": "python3",
   "display_name": "Python 3"
  }
 },
 "cells": [
  {
   "cell_type": "code",
   "execution_count": null,
   "metadata": {},
   "outputs": [],
   "source": [
    "# To prepare training data\n",
    "from poetry import data_utils\n",
    "data_utils.main()\n",
    "\n"
   ]
  },
  {
   "cell_type": "code",
   "execution_count": 2,
   "metadata": {},
   "outputs": [
    {
     "output_type": "stream",
     "name": "stdout",
     "text": "Using Word2vec with alignment, use -h for usage\nGenerating 128-dim word embedding ...\n[Word2Vec] 10000/76394 poems have been processed.\n[Word2Vec] 20000/76394 poems have been processed.\n[Word2Vec] 30000/76394 poems have been processed.\n[Word2Vec] 40000/76394 poems have been processed.\n[Word2Vec] 50000/76394 poems have been processed.\n[Word2Vec] 60000/76394 poems have been processed.\n[Word2Vec] 70000/76394 poems have been processed.\nHold on. This may take some time ...\nWord2Vec model is saved.\nWord embedding is saved.\nFinished loading Word2vec with alignment. Size of embedding: (6000, 128)\n"
    }
   ],
   "source": [
    "from poetry import word2vec\n",
    "print(\"Using Word2vec with alignment, use -h for usage\")\n",
    "embedding = word2vec.get_word_embedding(128, alignment=True)\n",
    "print(\"Finished loading Word2vec with alignment. Size of embedding: (%d, %d)\" %embedding.shape)"
   ]
  }
 ]
}